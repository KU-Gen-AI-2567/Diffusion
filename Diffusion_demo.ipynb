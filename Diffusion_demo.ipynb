{
  "nbformat": 4,
  "nbformat_minor": 0,
  "metadata": {
    "colab": {
      "provenance": [],
      "authorship_tag": "ABX9TyMDIOfTt/IJdtygeeohpsC4",
      "include_colab_link": true
    },
    "kernelspec": {
      "name": "python3",
      "display_name": "Python 3"
    },
    "language_info": {
      "name": "python"
    }
  },
  "cells": [
    {
      "cell_type": "markdown",
      "metadata": {
        "id": "view-in-github",
        "colab_type": "text"
      },
      "source": [
        "<a href=\"https://colab.research.google.com/github/KU-Gen-AI-2567/Diffusion/blob/main/Diffusion_demo.ipynb\" target=\"_parent\"><img src=\"https://colab.research.google.com/assets/colab-badge.svg\" alt=\"Open In Colab\"/></a>"
      ]
    },
    {
      "cell_type": "markdown",
      "source": [
        "# Diffusion Model - 01418496\n",
        "**สมาชิกกลุ่ม**\n",
        "\n",
        "นายศิวกร ภาสว่าง 6410451423\n",
        "\n",
        "นางสาว เเพรวรุ้ง พุดชะวา 6410451253\n",
        "\n",
        "นางสาว มารีน่า มิทซุย 6410450222\n",
        "\n",
        "หมู่ 200\n",
        "\n",
        "ชุดข้อมูล :\n",
        "\n",
        "ลิ้งดาวน์โหลด :"
      ],
      "metadata": {
        "id": "Av2on_vBxfKJ"
      }
    },
    {
      "cell_type": "code",
      "execution_count": null,
      "metadata": {
        "id": "5migLTQtxPZv"
      },
      "outputs": [],
      "source": [
        "import tensorflow as tf\n",
        "import numpy as np\n",
        "import os\n",
        "import kagglehub\n",
        "import shutil\n",
        "import pandas as pd"
      ]
    },
    {
      "cell_type": "markdown",
      "source": [
        "## Setting to execute on Processor (GPU or CPU)"
      ],
      "metadata": {
        "id": "xcM11rNjx89Q"
      }
    },
    {
      "cell_type": "code",
      "source": [
        "gpus = tf.config.list_physical_devices(\"GPU\")\n",
        "if len(gpus) > 0:\n",
        "    tf.config.experimental.set_memory_growth(gpus[0], True)\n",
        "    print(\"Execute on GPU\")\n",
        "else:\n",
        "    print(\"Execute on CPU\")"
      ],
      "metadata": {
        "id": "i2lv5H4mxe0a"
      },
      "execution_count": null,
      "outputs": []
    },
    {
      "cell_type": "markdown",
      "source": [
        "## Download Dataset"
      ],
      "metadata": {
        "id": "vEEGExK1yDiY"
      }
    },
    {
      "cell_type": "code",
      "source": [
        "# Download the dataset folder in latest version\n",
        "if not \"dataset\" in os.listdir(\".\"):\n",
        "    path = kagglehub.dataset_download(\"\")\n",
        "    print(\"Path to dataset files:\", path)\n",
        "    shutil.move(path, \"./dataset\")\n",
        "    print(\"Download Dataset Complete\")\n",
        "else:\n",
        "    print(\"Download Dataset Already\")"
      ],
      "metadata": {
        "id": "cAOlipkJyGyA"
      },
      "execution_count": null,
      "outputs": []
    },
    {
      "cell_type": "markdown",
      "source": [
        "## Prepossessing"
      ],
      "metadata": {
        "id": "x2bSntjUyLmq"
      }
    },
    {
      "cell_type": "code",
      "source": [
        "# Code for prepossessing"
      ],
      "metadata": {
        "id": "Th3t1nkRyS5p"
      },
      "execution_count": null,
      "outputs": []
    },
    {
      "cell_type": "markdown",
      "source": [
        "## Create Model"
      ],
      "metadata": {
        "id": "VSY5s__hyWBS"
      }
    },
    {
      "cell_type": "code",
      "source": [
        "# Code for creating model"
      ],
      "metadata": {
        "id": "SiBmBamZya6Y"
      },
      "execution_count": null,
      "outputs": []
    },
    {
      "cell_type": "markdown",
      "source": [
        "## Visualization"
      ],
      "metadata": {
        "id": "q76JXP00ygAZ"
      }
    },
    {
      "cell_type": "code",
      "source": [
        "# Code for Visualization"
      ],
      "metadata": {
        "id": "EMtesfKLyk45"
      },
      "execution_count": null,
      "outputs": []
    },
    {
      "cell_type": "markdown",
      "source": [
        "## Member Participation\n",
        "**รายระเอียดการมีส่วนร่วม**\n",
        "> - hello\n",
        "> - hello\n",
        "> - hello\n",
        "\n",
        "**การใช้เครื่องมือปัญญาประดิษฐ์**\n",
        "> - hello\n",
        "> - hello\n",
        "> - hello"
      ],
      "metadata": {
        "id": "e4nMfbDTyrlZ"
      }
    }
  ]
}